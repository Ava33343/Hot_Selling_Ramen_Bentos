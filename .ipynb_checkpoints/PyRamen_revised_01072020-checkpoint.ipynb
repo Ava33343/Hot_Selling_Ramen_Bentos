{
 "cells": [
  {
   "cell_type": "code",
   "execution_count": 129,
   "metadata": {},
   "outputs": [
    {
     "data": {
      "text/plain": [
       "['item', 'category', 'description', 'price', 'cost']"
      ]
     },
     "execution_count": 129,
     "metadata": {},
     "output_type": "execute_result"
    }
   ],
   "source": [
    "# -*- coding: UTF-8 -*-\n",
    "\"\"\"PyRamen Homework Starter.\"\"\"\n",
    "\n",
    "# @TODO: Import libraries\n",
    "import csv\n",
    "from pathlib import Path\n",
    "\n",
    "# @TODO: Initialize list objects to hold our menu and sales data\n",
    "menu = []\n",
    "sales = []\n",
    "\n",
    "# @TODO: Set file paths for menu_data.csv and sales_data.csv\n",
    "with open(\"../Resources/menu_data.csv\", 'r') as menufile:  \n",
    "    menufile = open(\"../Resources/menu_data.csv\", \"r\")\n",
    "\n",
    "# Read csv in csvreader & skip the first line of titles\n",
    "menu = csv.reader(menufile, delimiter=',')\n",
    "\n",
    "next(menu) # Question: Why would it print the header?"
   ]
  },
  {
   "cell_type": "code",
   "execution_count": 130,
   "metadata": {},
   "outputs": [],
   "source": [
    "# In menu:\n",
    "items = []\n",
    "categories = []\n",
    "descriptions = []\n",
    "prices = []\n",
    "costs = []"
   ]
  },
  {
   "cell_type": "code",
   "execution_count": 131,
   "metadata": {},
   "outputs": [],
   "source": [
    "for row in menu:\n",
    "    items.append(str(row[0]))\n",
    "    categories.append(row[1])\n",
    "    descriptions.append(row[2])\n",
    "    prices.append(row[3])\n",
    "    costs.append(row[4])\n",
    "    \n",
    "price = float(row[3])\n",
    "cost = float(row[4])"
   ]
  },
  {
   "cell_type": "code",
   "execution_count": 132,
   "metadata": {},
   "outputs": [],
   "source": [
    "# define profit\n",
    "profit = price - cost"
   ]
  },
  {
   "cell_type": "code",
   "execution_count": 133,
   "metadata": {},
   "outputs": [
    {
     "data": {
      "text/plain": [
       "float"
      ]
     },
     "execution_count": 133,
     "metadata": {},
     "output_type": "execute_result"
    }
   ],
   "source": [
    "# test:\n",
    "type(price)"
   ]
  },
  {
   "cell_type": "code",
   "execution_count": 134,
   "metadata": {},
   "outputs": [
    {
     "data": {
      "text/plain": [
       "['Line_Item_ID', 'Date', 'Credit_Card_Number', 'Quantity', 'Menu_Item']"
      ]
     },
     "execution_count": 134,
     "metadata": {},
     "output_type": "execute_result"
    }
   ],
   "source": [
    "# Open sales_data.csv\n",
    "with open(\"../Resources/sales_data.csv\", 'r') as salesfile:  \n",
    "    salesfile = open(\"../Resources/sales_data.csv\", \"r\")\n",
    "\n",
    "# Read csv in csvreader & skip the first line of titles\n",
    "sales = csv.reader(salesfile, delimiter=',')\n",
    "\n",
    "next(sales)"
   ]
  },
  {
   "cell_type": "code",
   "execution_count": 135,
   "metadata": {},
   "outputs": [
    {
     "data": {
      "text/plain": [
       "float"
      ]
     },
     "execution_count": 135,
     "metadata": {},
     "output_type": "execute_result"
    }
   ],
   "source": [
    "# in sales\n",
    "\n",
    "IDs = []\n",
    "dates = []\n",
    "cards = []\n",
    "quantities = []\n",
    "sales_item = []\n",
    "quantity = []\n",
    "\n",
    "# @TODO: Loop over every row in the sales list object\n",
    "\n",
    "for row in sales:\n",
    "   \n",
    "    IDs.append(row[0])\n",
    "    dates.append(row[1])\n",
    "    cards.append(row[2])\n",
    "    quantities.append(row[3])\n",
    "    sales_item.append(str(row[4]))\n",
    "    \n",
    "quantity = float(row[3])\n",
    "type(quantity)"
   ]
  },
  {
   "cell_type": "code",
   "execution_count": 136,
   "metadata": {},
   "outputs": [],
   "source": [
    "# @TODO: Initialize dict object to hold our key-value pairs of items and metrics\n",
    "report = {}\n",
    "\n",
    "\n",
    "# Initialize a row counter variable\n",
    "row_count = 0\n",
    "\n",
    "# @TODO:\n",
    "    # If the item value not in the report, add it as a new entry with initialized metrics\n",
    "    # Naming convention allows the keys to be ordered in logical fashion, count, revenue, cost, profit\n",
    "\n",
    "count = []\n",
    "revenue = []\n",
    "cogs = []"
   ]
  },
  {
   "cell_type": "code",
   "execution_count": 137,
   "metadata": {},
   "outputs": [
    {
     "data": {
      "text/plain": [
       "float"
      ]
     },
     "execution_count": 137,
     "metadata": {},
     "output_type": "execute_result"
    }
   ],
   "source": [
    "cogs = cost * quantity\n",
    "type(cogs)"
   ]
  },
  {
   "cell_type": "code",
   "execution_count": 138,
   "metadata": {},
   "outputs": [
    {
     "data": {
      "text/plain": [
       "float"
      ]
     },
     "execution_count": 138,
     "metadata": {},
     "output_type": "execute_result"
    }
   ],
   "source": [
    "revenue = price * quantity\n",
    "type(revenue)"
   ]
  },
  {
   "cell_type": "code",
   "execution_count": 139,
   "metadata": {},
   "outputs": [
    {
     "name": "stdout",
     "output_type": "stream",
     "text": [
      "edamame: NO MATCH!\n",
      "house salad: NO MATCH!\n",
      "cucumber sunomono salad: NO MATCH!\n",
      "hiyashi wakame seaweed salad: NO MATCH!\n",
      "agedashi tofu: NO MATCH!\n",
      "hiyayakko tofu: NO MATCH!\n",
      "pork floss bao: NO MATCH!\n",
      "kakuni bao: NO MATCH!\n",
      "edamame fried gyoza (vegan): NO MATCH!\n",
      "fried gyoza: NO MATCH!\n",
      "takoyaki: NO MATCH!\n",
      "rock shrimp tempura: NO MATCH!\n",
      "soft-shell crab tempura: NO MATCH!\n",
      "ebi katsu shrimp bao: NO MATCH!\n",
      "nagomi shoyu: {'01-count': 4.0, '02-revenue': 24.0, '03-cogs': 12.0, '04-profit': 6.0}\n",
      "shio ramen: {'01-count': 8.0, '02-revenue': 48.0, '03-cogs': 24.0, '04-profit': 12.0}\n",
      "spicy miso ramen: {'01-count': 16.0, '02-revenue': 96.0, '03-cogs': 48.0, '04-profit': 24.0}\n",
      "vegetarian spicy miso: {'01-count': 32.0, '02-revenue': 192.0, '03-cogs': 96.0, '04-profit': 48.0}\n",
      "miso crab ramen: {'01-count': 64.0, '02-revenue': 384.0, '03-cogs': 192.0, '04-profit': 96.0}\n",
      "soft-shell miso crab ramen: {'01-count': 128.0, '02-revenue': 768.0, '03-cogs': 384.0, '04-profit': 192.0}\n",
      "tori paitan ramen: {'01-count': 256.0, '02-revenue': 1536.0, '03-cogs': 768.0, '04-profit': 384.0}\n",
      "tonkotsu ramen: {'01-count': 512.0, '02-revenue': 3072.0, '03-cogs': 1536.0, '04-profit': 768.0}\n",
      "burnt garlic tonkotsu ramen: {'01-count': 1024.0, '02-revenue': 6144.0, '03-cogs': 3072.0, '04-profit': 1536.0}\n",
      "vegetarian curry + king trumpet mushroom ramen: {'01-count': 2048.0, '02-revenue': 12288.0, '03-cogs': 6144.0, '04-profit': 3072.0}\n",
      "truffle butter ramen: {'01-count': 4096.0, '02-revenue': 24576.0, '03-cogs': 12288.0, '04-profit': 6144.0}\n",
      "green tea: NO MATCH!\n",
      "coke: NO MATCH!\n",
      "black sesame ice cream: NO MATCH!\n",
      "matcha ice cream: NO MATCH!\n",
      "mango mochi ice cream: NO MATCH!\n",
      "strawberry mochi ice cream: NO MATCH!\n",
      "black sesame creme brulee: NO MATCH!\n"
     ]
    }
   ],
   "source": [
    "for i in items:\n",
    "    if i in sales_item:\n",
    "        quantity += quantity\n",
    "        revenue += revenue\n",
    "        cogs += cogs\n",
    "        profit += profit \n",
    "        report = {\"01-count\": quantity, \"02-revenue\": revenue, \"03-cogs\": cogs, \"04-profit\": profit}\n",
    "        print(f\"{i}: {report}\")\n",
    "    \n",
    "    else: \n",
    "        report = {\"01-count\": 0, \"02-revenue\": 0, \"03-cogs\": 0, \"04-profit\": 0}\n",
    "        print(f'{i}: NO MATCH!')"
   ]
  },
  {
   "cell_type": "code",
   "execution_count": 140,
   "metadata": {},
   "outputs": [],
   "source": [
    "# Set the output file path\n",
    "output_path = Path('../python-homework/PyRamen/report.txt')"
   ]
  },
  {
   "cell_type": "code",
   "execution_count": 141,
   "metadata": {},
   "outputs": [
    {
     "name": "stdout",
     "output_type": "stream",
     "text": [
      "1. nagomi shoyu : {'01-count': 0, '02-revenue': 0, '03-cogs': 0, '04-profit': 0}\n",
      "2. shio ramen : {'01-count': 0, '02-revenue': 0, '03-cogs': 0, '04-profit': 0}\n",
      "3. spicy miso ramen : {'01-count': 0, '02-revenue': 0, '03-cogs': 0, '04-profit': 0}\n",
      "4. vegetarian spicy miso : {'01-count': 0, '02-revenue': 0, '03-cogs': 0, '04-profit': 0}\n",
      "5. miso crab ramen : {'01-count': 0, '02-revenue': 0, '03-cogs': 0, '04-profit': 0}\n",
      "6. soft-shell miso crab ramen : {'01-count': 0, '02-revenue': 0, '03-cogs': 0, '04-profit': 0}\n",
      "7. tori paitan ramen : {'01-count': 0, '02-revenue': 0, '03-cogs': 0, '04-profit': 0}\n",
      "8. tonkotsu ramen : {'01-count': 0, '02-revenue': 0, '03-cogs': 0, '04-profit': 0}\n",
      "9. burnt garlic tonkotsu ramen : {'01-count': 0, '02-revenue': 0, '03-cogs': 0, '04-profit': 0}\n",
      "10. vegetarian curry + king trumpet mushroom ramen : {'01-count': 0, '02-revenue': 0, '03-cogs': 0, '04-profit': 0}\n",
      "11. truffle butter ramen : {'01-count': 0, '02-revenue': 0, '03-cogs': 0, '04-profit': 0}\n"
     ]
    }
   ],
   "source": [
    "# Open the file in \"read\" mode ('r') and store the\n",
    "# contents in the variable \"text\"\n",
    "# Revision needed on how to read in the file after adding row count\n",
    "\n",
    "for i in items:\n",
    "    if i in sales_item:\n",
    "        with open(output_path, 'w') as file:\n",
    "            file.write(str(report))\n",
    "        \n",
    "# open file to read       \n",
    "        file = open(output_path, 'r')\n",
    "        for line in file:\n",
    "            row_count += 1\n",
    "        print(f\"{row_count}. {i} : {line}\")"
   ]
  }
 ],
 "metadata": {
  "kernelspec": {
   "display_name": "vizenv",
   "language": "python",
   "name": "vizenv"
  },
  "language_info": {
   "codemirror_mode": {
    "name": "ipython",
    "version": 3
   },
   "file_extension": ".py",
   "mimetype": "text/x-python",
   "name": "python",
   "nbconvert_exporter": "python",
   "pygments_lexer": "ipython3",
   "version": "3.7.6"
  }
 },
 "nbformat": 4,
 "nbformat_minor": 4
}
